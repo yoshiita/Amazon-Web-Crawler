{
 "cells": [
  {
   "cell_type": "code",
   "execution_count": 88,
   "id": "64bdcc85",
   "metadata": {},
   "outputs": [],
   "source": [
    "from bs4 import BeautifulSoup\n",
    "import requests\n",
    "import time\n",
    "import datetime\n",
    "import smtplib\n",
    "from decimal import Decimal"
   ]
  },
  {
   "cell_type": "code",
   "execution_count": 62,
   "id": "dc4124bb",
   "metadata": {},
   "outputs": [
    {
     "name": "stdout",
     "output_type": "stream",
     "text": [
      "\n",
      "                   Tommy Hilfiger Women Sweater\n",
      "                  \n",
      "\n",
      "\n",
      "\n",
      "\n",
      "\n",
      "                   Price:\n",
      "                  \n",
      "\n",
      "\n",
      "\n",
      "                     ₹2,859.00\n",
      "                    \n",
      "\n",
      "                     ₹2,859.00\n",
      "                    \n",
      "\n",
      "\n",
      "\n",
      "\n",
      "\n",
      "\n",
      "\n",
      "\n",
      "\n",
      "\n",
      "\n",
      "\n",
      "\n",
      "\n",
      "\n",
      "\n",
      "\n",
      "\n",
      "\n",
      "\n",
      "\n",
      "\n",
      "\n",
      "\n",
      "                    Inclusive of all taxes\n",
      "                   \n",
      "\n",
      "\n",
      "\n",
      "\n",
      "\n"
     ]
    }
   ],
   "source": [
    "#connect to amazon\n",
    "\n",
    "URL=\"https://www.amazon.in/Tommy-Hilfiger-Sweater-A0AJS115_Rustic-Multi_Small/dp/B08TVVPLCC/ref=sr_1_2?pf_rd_i=1953602031&pf_rd_m=A1VBAL9TL5WCBF&pf_rd_p=772c31d5-aa24-48a1-ac6a-b072f47d5789&pf_rd_r=CQN8HVJ1MV9NF5SW8BZ0&pf_rd_s=merchandised-search-9&qid=1668585745&refinements=p_89%3ATommy+Hilfiger%2Cp_85%3A10440599031&rnid=10440598031&rps=1&s=apparel&sr=1-2\"\n",
    "headers= {\"User-Agent\": \"Mozilla/5.0 (Windows NT 10.0; Win64; x64) AppleWebKit/537.36 (KHTML, like Gecko) Chrome/106.0.0.0 Safari/537.36 OPR/92.0.0.0 (Edition std-1)\"}\n",
    "\n",
    "page = requests.get(URL,headers=headers)\n",
    "\n",
    "soup1=BeautifulSoup(page.content,\"html.parser\")\n",
    "soup2=BeautifulSoup(soup1.prettify(),\"html.parser\")\n",
    "title=soup2.find(id='productTitle').get_text()\n",
    "price=soup2.find(id='corePrice_desktop').get_text()\n",
    "#price=soup2.find(class='a-offscreen').get_text()\n",
    "print(title)\n",
    "print(price)\n",
    "\n",
    "\n",
    "\n",
    "\n"
   ]
  },
  {
   "cell_type": "code",
   "execution_count": 63,
   "id": "11524b1c",
   "metadata": {},
   "outputs": [
    {
     "name": "stdout",
     "output_type": "stream",
     "text": [
      "Tommy Hilfiger Women Sweater\n",
      "2,859.00\n",
      "2022-11-16\n"
     ]
    }
   ],
   "source": [
    "price=price.strip()[51:59]\n",
    "title=title.strip()\n",
    "print(title)\n",
    "print(price)\n",
    "today= datetime.date.today()\n",
    "print(today)"
   ]
  },
  {
   "cell_type": "markdown",
   "id": "d3940a33",
   "metadata": {},
   "source": [
    "import csv\n",
    "\n",
    "header=['Title', 'Price','Date']\n",
    "data =[title,price,today]\n",
    "\n",
    "\n",
    "with open(\"AmazonWebScraperDataset.csv\",'w', newline='',encoding='UTF8') as f:\n",
    "    writer=csv.writer(f)\n",
    "    writer.writerow(header)\n",
    "    writer.writerow(data)\n",
    "    \n",
    "         "
   ]
  },
  {
   "cell_type": "code",
   "execution_count": 65,
   "id": "43a19956",
   "metadata": {},
   "outputs": [
    {
     "name": "stdout",
     "output_type": "stream",
     "text": [
      "                          Title     Price        Date\n",
      "0  Tommy Hilfiger Women Sweater  2,859.00  2022-11-16\n"
     ]
    }
   ],
   "source": [
    "import pandas as pd\n",
    "df=pd.read_csv(r'C:\\Users\\Yoshita\\AmazonWebScraperDataset.csv')\n",
    "print(df)"
   ]
  },
  {
   "cell_type": "code",
   "execution_count": 66,
   "id": "05c60bdc",
   "metadata": {},
   "outputs": [],
   "source": [
    "#appending data\n",
    "with open(\"AmazonWebScraperDataset.csv\",'a+', newline='',encoding='UTF8') as f:\n",
    "    writer=csv.writer(f)\n",
    "    writer.writerow(data)"
   ]
  },
  {
   "cell_type": "code",
   "execution_count": 93,
   "id": "7fae2a3c",
   "metadata": {},
   "outputs": [],
   "source": [
    "def check_price():\n",
    "    URL=\"https://www.amazon.in/Tommy-Hilfiger-Sweater-A0AJS115_Rustic-Multi_Small/dp/B08TVVPLCC/ref=sr_1_2?pf_rd_i=1953602031&pf_rd_m=A1VBAL9TL5WCBF&pf_rd_p=772c31d5-aa24-48a1-ac6a-b072f47d5789&pf_rd_r=CQN8HVJ1MV9NF5SW8BZ0&pf_rd_s=merchandised-search-9&qid=1668585745&refinements=p_89%3ATommy+Hilfiger%2Cp_85%3A10440599031&rnid=10440598031&rps=1&s=apparel&sr=1-2\"\n",
    "    headers= {\"User-Agent\": \"Mozilla/5.0 (Windows NT 10.0; Win64; x64) AppleWebKit/537.36 (KHTML, like Gecko) Chrome/106.0.0.0 Safari/537.36 OPR/92.0.0.0 (Edition std-1)\"}\n",
    "\n",
    "    page = requests.get(URL,headers=headers)\n",
    "\n",
    "    soup1=BeautifulSoup(page.content,\"html.parser\")\n",
    "    soup2=BeautifulSoup(soup1.prettify(),\"html.parser\")\n",
    "    title=soup2.find(id='productTitle').get_text()\n",
    "    price=soup2.find(id='corePrice_desktop').get_text()\n",
    "    price=price.strip()[51:59]\n",
    "    title=title.strip()\n",
    "    today= datetime.date.today()\n",
    "    import csv\n",
    "\n",
    "    header=['Title', 'Price','Date']\n",
    "    data =[title,price,today]\n",
    "    \n",
    "    with open(\"AmazonWebScraperDataset.csv\",'a+', newline='',encoding='UTF8') as f:\n",
    "        writer=csv.writer(f)\n",
    "        writer.writerow(data)\n",
    "    #price=float(price)\n",
    "    if(price<2000.00):\n",
    "        send_mail()"
   ]
  },
  {
   "cell_type": "code",
   "execution_count": 94,
   "id": "de51fa28",
   "metadata": {
    "scrolled": true
   },
   "outputs": [
    {
     "ename": "ValueError",
     "evalue": "could not convert string to float: '2,859.00'",
     "output_type": "error",
     "traceback": [
      "\u001b[1;31m---------------------------------------------------------------------------\u001b[0m",
      "\u001b[1;31mValueError\u001b[0m                                Traceback (most recent call last)",
      "\u001b[1;32m~\\AppData\\Local\\Temp\\ipykernel_9772\\4212351095.py\u001b[0m in \u001b[0;36m<module>\u001b[1;34m\u001b[0m\n\u001b[0;32m      1\u001b[0m \u001b[1;32mwhile\u001b[0m\u001b[1;33m(\u001b[0m\u001b[1;32mTrue\u001b[0m\u001b[1;33m)\u001b[0m\u001b[1;33m:\u001b[0m\u001b[1;33m\u001b[0m\u001b[1;33m\u001b[0m\u001b[0m\n\u001b[1;32m----> 2\u001b[1;33m     \u001b[0mcheck_price\u001b[0m\u001b[1;33m(\u001b[0m\u001b[1;33m)\u001b[0m\u001b[1;33m\u001b[0m\u001b[1;33m\u001b[0m\u001b[0m\n\u001b[0m\u001b[0;32m      3\u001b[0m     \u001b[0mtime\u001b[0m\u001b[1;33m.\u001b[0m\u001b[0msleep\u001b[0m\u001b[1;33m(\u001b[0m\u001b[1;36m5\u001b[0m\u001b[1;33m)\u001b[0m\u001b[1;33m\u001b[0m\u001b[1;33m\u001b[0m\u001b[0m\n",
      "\u001b[1;32m~\\AppData\\Local\\Temp\\ipykernel_9772\\3477880286.py\u001b[0m in \u001b[0;36mcheck_price\u001b[1;34m()\u001b[0m\n\u001b[0;32m     20\u001b[0m         \u001b[0mwriter\u001b[0m\u001b[1;33m=\u001b[0m\u001b[0mcsv\u001b[0m\u001b[1;33m.\u001b[0m\u001b[0mwriter\u001b[0m\u001b[1;33m(\u001b[0m\u001b[0mf\u001b[0m\u001b[1;33m)\u001b[0m\u001b[1;33m\u001b[0m\u001b[1;33m\u001b[0m\u001b[0m\n\u001b[0;32m     21\u001b[0m         \u001b[0mwriter\u001b[0m\u001b[1;33m.\u001b[0m\u001b[0mwriterow\u001b[0m\u001b[1;33m(\u001b[0m\u001b[0mdata\u001b[0m\u001b[1;33m)\u001b[0m\u001b[1;33m\u001b[0m\u001b[1;33m\u001b[0m\u001b[0m\n\u001b[1;32m---> 22\u001b[1;33m     \u001b[0mprice\u001b[0m\u001b[1;33m=\u001b[0m\u001b[0mfloat\u001b[0m\u001b[1;33m(\u001b[0m\u001b[0mprice\u001b[0m\u001b[1;33m)\u001b[0m\u001b[1;33m\u001b[0m\u001b[1;33m\u001b[0m\u001b[0m\n\u001b[0m\u001b[0;32m     23\u001b[0m \u001b[1;33m\u001b[0m\u001b[0m\n",
      "\u001b[1;31mValueError\u001b[0m: could not convert string to float: '2,859.00'"
     ]
    }
   ],
   "source": [
    "while(True):\n",
    "    check_price()\n",
    "    time.sleep(5)"
   ]
  },
  {
   "cell_type": "code",
   "execution_count": 78,
   "id": "657e25dd",
   "metadata": {},
   "outputs": [
    {
     "name": "stdout",
     "output_type": "stream",
     "text": [
      "                          Title     Price        Date\n",
      "0  Tommy Hilfiger Women Sweater  2,859.00  2022-11-16\n",
      "1  Tommy Hilfiger Women Sweater  2,859.00  2022-11-16\n",
      "2  Tommy Hilfiger Women Sweater  2,859.00  2022-11-16\n",
      "3  Tommy Hilfiger Women Sweater  2,859.00  2022-11-16\n"
     ]
    }
   ],
   "source": [
    "import pandas as pd\n",
    "df=pd.read_csv(r'C:\\Users\\Yoshita\\AmazonWebScraperDataset.csv')\n",
    "print(df)"
   ]
  },
  {
   "cell_type": "code",
   "execution_count": null,
   "id": "62e60fc8",
   "metadata": {},
   "outputs": [],
   "source": [
    "#to send a mail when price drops\n",
    "def send_mai():\n",
    "    server=smtplib.SMTP_SSL('smpt.gmail.com',465)\n",
    "    server.ehlo()\n",
    "    server.login('yoshita.m2@gmail.com','xxxxx')\n",
    "    subject= \" Chance to grab it\"\n",
    "    body=\"Tommy Hilfiger Women Sweater is below 1000. Now is your chance to go get it\"\n",
    "    msg=f\"Subject;{subject}\\n\\n{body}\"\n",
    "    server.sendmail('yoshita.m2@gmail.com',msg)"
   ]
  }
 ],
 "metadata": {
  "kernelspec": {
   "display_name": "Python 3 (ipykernel)",
   "language": "python",
   "name": "python3"
  },
  "language_info": {
   "codemirror_mode": {
    "name": "ipython",
    "version": 3
   },
   "file_extension": ".py",
   "mimetype": "text/x-python",
   "name": "python",
   "nbconvert_exporter": "python",
   "pygments_lexer": "ipython3",
   "version": "3.9.13"
  }
 },
 "nbformat": 4,
 "nbformat_minor": 5
}
